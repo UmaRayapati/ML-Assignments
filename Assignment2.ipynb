{
 "cells": [
  {
   "cell_type": "markdown",
   "metadata": {},
   "source": [
    "# Write a Python Program to implement your own myreduce() function which works exactly like Python's built-in function reduce()\n",
    "\n",
    "I have wrote a simple function to find the longest word in the given list which works exactly as a reduce() in Python(for which the code is written in OR section of the same question)\n"
   ]
  },
  {
   "cell_type": "code",
   "execution_count": 1,
   "metadata": {},
   "outputs": [
    {
     "data": {
      "text/plain": [
       "'uma'"
      ]
     },
     "execution_count": 1,
     "metadata": {},
     "output_type": "execute_result"
    }
   ],
   "source": [
    "def longest_str(input_strs):\n",
    "    longest_string = ' '\n",
    "    str_len = 0 \n",
    "    for s in input_strs:\n",
    "        if len(s) > str_len:\n",
    "            str_len = len(s)\n",
    "            longest_string = s\n",
    "    return longest_string\n",
    "\n",
    "longest_str(['a','uma','b'])"
   ]
  },
  {
   "cell_type": "markdown",
   "metadata": {},
   "source": [
    "#                                                    OR"
   ]
  },
  {
   "cell_type": "code",
   "execution_count": 2,
   "metadata": {},
   "outputs": [
    {
     "name": "stdout",
     "output_type": "stream",
     "text": [
      "cyusgcvuhysdycvgsdygfufgigiutiugoiugyufrutiugoigo\n"
     ]
    }
   ],
   "source": [
    "input_list = ('bvkjhsv','UMAjhjoiijijijojioioiijijjpjpj','hgihrsg','fguwgfiuwg9uf','bvjsb','cyusgcvuhysdycvgsdygfufgigiutiugoiugyufrutiugoigo','hfhgs','g','hgihgoishgiohsghidhgidf')\n",
    "max_length=max(len(i) for i in input_list)\n",
    "s=[]\n",
    "s=[i for i in input_list if len(i) >= max_length]\n",
    "print(s[0])"
   ]
  },
  {
   "cell_type": "markdown",
   "metadata": {},
   "source": [
    "# OR"
   ]
  },
  {
   "cell_type": "code",
   "execution_count": 3,
   "metadata": {},
   "outputs": [
    {
     "name": "stdout",
     "output_type": "stream",
     "text": [
      "Longest string in the given list is - UMA RAYAPATI\n"
     ]
    }
   ],
   "source": [
    "import functools\n",
    "lis=['A','UMA RAYAPATI','R','ARYAN','KRANTHI']\n",
    "longest_str = functools.reduce(lambda x,y : x if len(x)>len(y) else y,lis)\n",
    "print('Longest string in the given list is - {}'.format(longest_str))"
   ]
  },
  {
   "cell_type": "markdown",
   "metadata": {},
   "source": [
    "# Write a Python program to implement your own myfilter() function which works exactly like Python's built-in function filter()"
   ]
  },
  {
   "cell_type": "code",
   "execution_count": 4,
   "metadata": {},
   "outputs": [
    {
     "name": "stdout",
     "output_type": "stream",
     "text": [
      "APPLE\n",
      "BANANA\n",
      "ORANGE\n"
     ]
    }
   ],
   "source": [
    "names=['bsDk','APPLE','jksdghkjs','BANANA','Bdvjfbk','ORANGE']\n",
    "\n",
    "def filter_upper(val):\n",
    "    if val.isupper():\n",
    "        return True\n",
    "    else:\n",
    "        return False\n",
    "\n",
    "capnames = filter(filter_upper, names)\n",
    "\n",
    "for val in capnames:\n",
    "    print(val)"
   ]
  },
  {
   "cell_type": "markdown",
   "metadata": {},
   "source": [
    "# Implement List comprehensions to produce the following lists.\n",
    "Write List comprehensions to produce the following Lists\n",
    "\n",
    "['A', 'C', 'A', 'D', 'G', 'I', ’L’, ‘ D’]\n",
    "\n",
    "['x', 'xx', 'xxx', 'xxxx', 'y', 'yy', 'yyy', 'yyyy', 'z', 'zz', 'zzz', 'zzzz']\n",
    "\n",
    "['x', 'y', 'z', 'xx', 'yy', 'zz', 'xx', 'yy', 'zz', 'xxxx', 'yyyy', 'zzzz']\n",
    "\n",
    "[[2], [3], [4], [3], [4], [5], [4], [5], [6]]\n",
    "\n",
    "[[2, 3, 4, 5], [3, 4, 5, 6], [4, 5, 6, 7], [5, 6, 7, 8]]\n",
    "\n",
    "[(1, 1), (2, 1), (3, 1), (1, 2), (2, 2), (3, 2), (1, 3), (2, 3), (3, 3)]"
   ]
  },
  {
   "cell_type": "code",
   "execution_count": 5,
   "metadata": {},
   "outputs": [
    {
     "name": "stdout",
     "output_type": "stream",
     "text": [
      "Feed few input elements as per the requirement - ACADGILD\n",
      "['A', 'C', 'A', 'D', 'G', 'I', 'L', 'D']\n"
     ]
    }
   ],
   "source": [
    "l=[i for i in input('Feed few input elements as per the requirement - ')]\n",
    "print(l)"
   ]
  },
  {
   "cell_type": "code",
   "execution_count": 6,
   "metadata": {},
   "outputs": [
    {
     "name": "stdout",
     "output_type": "stream",
     "text": [
      "Feed few input elements as per the requirement - XYZ\n",
      "['X', 'XX', 'XXX', 'XXXX', 'Y', 'YY', 'YYY', 'YYYY', 'Z', 'ZZ', 'ZZZ', 'ZZZZ']\n"
     ]
    }
   ],
   "source": [
    "l=[i*j for i in input('Feed few input elements as per the requirement - ') for j in range(1,5)]\n",
    "print(l)"
   ]
  },
  {
   "cell_type": "code",
   "execution_count": 7,
   "metadata": {},
   "outputs": [
    {
     "name": "stdout",
     "output_type": "stream",
     "text": [
      "['x', 'y', 'z', 'xx', 'yy', 'zz', 'xxx', 'yyy', 'zzz', 'xxxx', 'yyyy', 'zzzz']\n"
     ]
    }
   ],
   "source": [
    "inp_letters=['x','y','z']\n",
    "l=[j*i for j in range(1,5) for i in inp_letters]\n",
    "print(l)"
   ]
  },
  {
   "cell_type": "code",
   "execution_count": 8,
   "metadata": {},
   "outputs": [
    {
     "name": "stdout",
     "output_type": "stream",
     "text": [
      "[[2], [3], [4], [3], [4], [5], [4], [5], [6]]\n"
     ]
    }
   ],
   "source": [
    "inp_nums=[2,3,4]\n",
    "l=[[j+i] for i in range(0,3) for j in inp_nums]\n",
    "print(l)"
   ]
  },
  {
   "cell_type": "code",
   "execution_count": 9,
   "metadata": {},
   "outputs": [
    {
     "name": "stdout",
     "output_type": "stream",
     "text": [
      "[[2, 3, 4, 5], [3, 4, 5, 6], [4, 5, 6, 7], [5, 6, 7, 8]]\n"
     ]
    }
   ],
   "source": [
    "l=[[i,i+1,i+2,i+3] for i in range(2,6)]\n",
    "print(l)"
   ]
  },
  {
   "cell_type": "code",
   "execution_count": 10,
   "metadata": {},
   "outputs": [
    {
     "name": "stdout",
     "output_type": "stream",
     "text": [
      "[(1, 1), (2, 1), (3, 1), (1, 2), (2, 2), (3, 2), (1, 3), (2, 3), (3, 3)]\n"
     ]
    }
   ],
   "source": [
    "inp_nums=[1,2,3]\n",
    "l=[(j,i) for i in range(1,4) for j in inp_nums]\n",
    "print(l)"
   ]
  },
  {
   "cell_type": "markdown",
   "metadata": {},
   "source": [
    "# Implement a function longestWord() that takes a list of words and returns the longest one."
   ]
  },
  {
   "cell_type": "code",
   "execution_count": 11,
   "metadata": {},
   "outputs": [
    {
     "data": {
      "text/plain": [
       "'uma'"
      ]
     },
     "execution_count": 11,
     "metadata": {},
     "output_type": "execute_result"
    }
   ],
   "source": [
    "def longest_str(input_strs):\n",
    "    longest_string = ' '\n",
    "    str_len = 0 \n",
    "    for s in input_strs:\n",
    "        if len(s) > str_len:\n",
    "            str_len = len(s)\n",
    "            longest_string = s\n",
    "    return longest_string\n",
    "\n",
    "longest_str(['a','uma','b'])"
   ]
  },
  {
   "cell_type": "markdown",
   "metadata": {},
   "source": [
    "# Write a Python Program(with class concepts) to find the area of the triangle using the below formula.\n",
    "area = (s*(s-a)*(s-b)*(s-c)) ** 0.5\n",
    "Function to take the length of the sides of triangle from user should be defined in the parent\n",
    "class and function to calculate the area should be defined in subclass\n",
    "\n",
    "This is called Heron's formula for calculating the area of a triangle\n",
    "To derive the area, we should first calculate the value of S. Where S=(a+b+c)/2"
   ]
  },
  {
   "cell_type": "code",
   "execution_count": 12,
   "metadata": {},
   "outputs": [
    {
     "name": "stdout",
     "output_type": "stream",
     "text": [
      "Area of triangle is - 90\n"
     ]
    }
   ],
   "source": [
    "import math\n",
    "\n",
    "class Triarea:\n",
    "    def __init__(self,a,b,c):\n",
    "        self.a1=a\n",
    "        self.b1=b\n",
    "        self.c1=c\n",
    "        \n",
    "    def calc_peri(self):\n",
    "        self.s=(self.a1+self.b1+self.c1)/2\n",
    "    \n",
    "    def calc_tri_area(self):\n",
    "        print('Area of triangle is - {}'.format(math.ceil((self.s*(self.s-self.a1)*(self.s-self.b1)*(self.s-self.c1))**0.5)))\n",
    "    \n",
    "t=Triarea(10,18,20)\n",
    "t.calc_peri()\n",
    "t.calc_tri_area()"
   ]
  },
  {
   "cell_type": "markdown",
   "metadata": {},
   "source": [
    "# Write a function filter_long_words() that takes a list of words and an integer n and returns the list of words that are longer than n."
   ]
  },
  {
   "cell_type": "code",
   "execution_count": 13,
   "metadata": {},
   "outputs": [
    {
     "name": "stdout",
     "output_type": "stream",
     "text": [
      "Enter few words to find the words longer than the given length - hkjh,jhgj,h,ji,bfhwgih,sbfihsg,h,d,gty,nvkj\n",
      "['bfhwgih', 'sbfihsg']\n"
     ]
    }
   ],
   "source": [
    "def filter_long_words(inp_list,min_len):\n",
    "    long_words=[]\n",
    "    long_words=[i for i in list(inp_list) if len(i) > min_len]\n",
    "    return long_words\n",
    "\n",
    "inp_lst=list(input('Enter few words to find the words longer than the given length - ').split(','))\n",
    "print(filter_long_words(inp_lst,4))"
   ]
  },
  {
   "cell_type": "markdown",
   "metadata": {},
   "source": [
    "# Write a Python program using function concept that maps list of words into a list of integers representing the lengths of the corresponding words .\n",
    "\n",
    "Hint: If a list [ ab,cde,erty] is passed on to the python function output should come as [2,3,4]\n",
    "\n",
    "Here 2,3 and 4 are the lengths of the words in the list."
   ]
  },
  {
   "cell_type": "code",
   "execution_count": 14,
   "metadata": {},
   "outputs": [
    {
     "name": "stdout",
     "output_type": "stream",
     "text": [
      "[4, 4, 6, 9]\n"
     ]
    }
   ],
   "source": [
    "def wrd_to_len(lst_wrds):\n",
    "    wrd_len=[]\n",
    "    wrd_len=[len(i) for i in lst_wrds]\n",
    "    return wrd_len\n",
    "\n",
    "print(wrd_to_len(['vsdv','dvds','BVHJSV','jdvsdkvbs']))\n"
   ]
  },
  {
   "cell_type": "markdown",
   "metadata": {},
   "source": [
    "# OR"
   ]
  },
  {
   "cell_type": "code",
   "execution_count": 15,
   "metadata": {},
   "outputs": [
    {
     "data": {
      "text/plain": [
       "[4, 8, 5, 1, 1]"
      ]
     },
     "execution_count": 15,
     "metadata": {},
     "output_type": "execute_result"
    }
   ],
   "source": [
    "lst_wrds=['fdsf','fdsfssdv','fdsfa','f','h']\n",
    "list(map(lambda i:len(i),lst_wrds))"
   ]
  },
  {
   "cell_type": "markdown",
   "metadata": {},
   "source": [
    "# Write a Python function which takes a character (i.e. a string of length 1) and returns True if it is a vowel, False otherwise."
   ]
  },
  {
   "cell_type": "code",
   "execution_count": 16,
   "metadata": {},
   "outputs": [
    {
     "name": "stdout",
     "output_type": "stream",
     "text": [
      "['vowel', 'consonant', 'vowel', 'consonant']\n"
     ]
    }
   ],
   "source": [
    "def vow_con(lst_str):\n",
    "    op_lst=[]\n",
    "    vo='vowel'\n",
    "    co='consonant'\n",
    "    op_lst=[vo if (i=='a' or i=='e' or i=='i' or i=='o' or i=='u') else co for i in lst_str]\n",
    "    return op_lst\n",
    "\n",
    "lst_str=['a','h','e','f']\n",
    "print(vow_con(lst_str))"
   ]
  },
  {
   "cell_type": "markdown",
   "metadata": {},
   "source": [
    "# OR"
   ]
  },
  {
   "cell_type": "code",
   "execution_count": 18,
   "metadata": {},
   "outputs": [
    {
     "name": "stdout",
     "output_type": "stream",
     "text": [
      "Enter single character strings to know if it is Vowel / consonent - a,f,r,i,v,e,n,o\n"
     ]
    },
    {
     "data": {
      "text/plain": [
       "['vowel',\n",
       " 'consonent',\n",
       " 'consonent',\n",
       " 'vowel',\n",
       " 'consonent',\n",
       " 'vowel',\n",
       " 'consonent',\n",
       " 'vowel']"
      ]
     },
     "execution_count": 18,
     "metadata": {},
     "output_type": "execute_result"
    }
   ],
   "source": [
    "vo='vowel'\n",
    "co='consonent'\n",
    "list(map(lambda val: vo if val=='a' or val=='e' or val=='i' or val=='o' or val=='u' else co ,input('Enter single character strings to know if it is Vowel / consonent - ').split(',')))"
   ]
  }
 ],
 "metadata": {
  "kernelspec": {
   "display_name": "Python 3",
   "language": "python",
   "name": "python3"
  },
  "language_info": {
   "codemirror_mode": {
    "name": "ipython",
    "version": 3
   },
   "file_extension": ".py",
   "mimetype": "text/x-python",
   "name": "python",
   "nbconvert_exporter": "python",
   "pygments_lexer": "ipython3",
   "version": "3.7.4"
  }
 },
 "nbformat": 4,
 "nbformat_minor": 2
}
