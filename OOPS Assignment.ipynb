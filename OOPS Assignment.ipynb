{
 "cells": [
  {
   "cell_type": "markdown",
   "metadata": {},
   "source": [
    "# call the same method of two parent classes in a child class \n",
    "\n",
    "WITH OUT USING SUPER()"
   ]
  },
  {
   "cell_type": "code",
   "execution_count": 1,
   "metadata": {},
   "outputs": [
    {
     "name": "stdout",
     "output_type": "stream",
     "text": [
      "A - sum of first two numbers       :5\n",
      "B - sum of first and last numbers  :8\n"
     ]
    }
   ],
   "source": [
    "class A:\n",
    "    def test(self,a,b,c):\n",
    "        self.a1=a\n",
    "        self.b1=b\n",
    "        self.c1=c\n",
    "        print('A - sum of first two numbers       :'+ str(self.a1+self.b1))\n",
    "\n",
    "class B:\n",
    "    def test(self,a,b,c):\n",
    "        self.a2=a\n",
    "        self.b2=b\n",
    "        self.c2=c\n",
    "        d=self.a2+self.c2\n",
    "        print('B - sum of first and last numbers  :'+ str(d))\n",
    "    \n",
    "class C:\n",
    "    a=A()\n",
    "    b=B()\n",
    "    a.test(2,3,4)\n",
    "    b.test(3,4,5)\n",
    "\n",
    "\n",
    "c=C()"
   ]
  },
  {
   "cell_type": "markdown",
   "metadata": {},
   "source": [
    "# OR"
   ]
  },
  {
   "cell_type": "markdown",
   "metadata": {},
   "source": [
    "# # call the same method of two parent classes in a child class \n",
    "\n",
    "WITH USING SUPER()"
   ]
  },
  {
   "cell_type": "code",
   "execution_count": 2,
   "metadata": {},
   "outputs": [
    {
     "name": "stdout",
     "output_type": "stream",
     "text": [
      "A - sum of first two numbers       :5\n",
      "B - sum of first and last numbers  :6\n"
     ]
    }
   ],
   "source": [
    "class A:\n",
    "    def test(self,a,b,c):\n",
    "        self.a1=a\n",
    "        self.b1=b\n",
    "        self.c1=c\n",
    "        print('A - sum of first two numbers       :'+ str(self.a1+self.b1))\n",
    "\n",
    "class B:\n",
    "    def test(self,a,b,c):\n",
    "        self.a2=a\n",
    "        self.b2=b\n",
    "        self.c2=c\n",
    "        d=self.a2+self.c2\n",
    "        print('B - sum of first and last numbers  :'+ str(d))\n",
    "    \n",
    "class C(A,B):\n",
    "    def test(self,a,b,c):\n",
    "        super(C,self).test(a,b,c)\n",
    "        super(A,self).test(a,b,c)\n",
    "\n",
    "\n",
    "c=C()\n",
    "c.test(2,3,4)"
   ]
  }
 ],
 "metadata": {
  "kernelspec": {
   "display_name": "Python 3",
   "language": "python",
   "name": "python3"
  },
  "language_info": {
   "codemirror_mode": {
    "name": "ipython",
    "version": 3
   },
   "file_extension": ".py",
   "mimetype": "text/x-python",
   "name": "python",
   "nbconvert_exporter": "python",
   "pygments_lexer": "ipython3",
   "version": "3.7.4"
  }
 },
 "nbformat": 4,
 "nbformat_minor": 2
}
